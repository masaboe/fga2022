{
 "cells": [
  {
   "cell_type": "markdown",
   "metadata": {},
   "source": [
    "# Praktikum dan Diskusi Sesi 3 dan 4"
   ]
  },
  {
   "cell_type": "markdown",
   "metadata": {},
   "source": [
    "### Program Pertama\n",
    "- mengenal fungsi print();\n",
    "- tanda kurung buka;\n",
    "- tanda kutip;\n",
    "- kalimat 1 baris: Hello, World!;\n",
    "- fungsi beberapa tanda kutip lain;\n",
    "- tanda kurung tutup."
   ]
  },
  {
   "cell_type": "code",
   "execution_count": 5,
   "metadata": {},
   "outputs": [
    {
     "name": "stdout",
     "output_type": "stream",
     "text": [
      "Hello World!@#!#!$\n",
      "test\n"
     ]
    }
   ],
   "source": [
    "print(\"Hello World!@#!#!$\")\n",
    "print(\"test\")"
   ]
  },
  {
   "cell_type": "markdown",
   "metadata": {},
   "source": [
    "#### 2.1.1.6 LAB: The print() function\n",
    "\n",
    "- Cetak kalimat \"Hello, Python!\"\n",
    "- Cetak nama pertamamu\n",
    "- Cetak nama pertamamu tanpa petik\n",
    "- apakah ada bedanya double quote \"\" dan single quote '?"
   ]
  },
  {
   "cell_type": "code",
   "execution_count": 6,
   "metadata": {},
   "outputs": [
    {
     "name": "stdout",
     "output_type": "stream",
     "text": [
      "Hello, Python!\n",
      "Abu\n",
      "Abu\n"
     ]
    }
   ],
   "source": [
    "print(\"Hello, Python!\")\n",
    "print(\"Abu\")\n",
    "print('Abu')"
   ]
  },
  {
   "cell_type": "markdown",
   "metadata": {},
   "source": [
    "## Formatting dengan Special Character\n",
    "`\\' = karakter spesial \"escaping nature\"\n",
    "\n",
    "`\\n` = untuk enter\n",
    "\n",
    "`\\` = escaping karakter\n",
    "\n",
    "```python\n",
    "print() = berarti line kosong\n",
    "```\n",
    "\n",
    "Tidak boleh ada 2 perintah dalam 1 baris\n",
    "```python\n",
    "print(\"nama depan\") print (\"nama belakang\")\n",
    "```"
   ]
  },
  {
   "cell_type": "code",
   "execution_count": 12,
   "metadata": {},
   "outputs": [
    {
     "name": "stdout",
     "output_type": "stream",
     "text": [
      "\n",
      "Saya sudah sarapan tadi pagi\n",
      " dan nanti siang makan lagi\n",
      "Saya sudah sarapan tadi pagi\t dan nanti siang makan lagi\n"
     ]
    }
   ],
   "source": [
    "print()\n",
    "\n",
    "print(\"Saya sudah sarapan tadi pagi\\n dan nanti siang makan lagi\")\n",
    "print(\"Saya sudah sarapan tadi pagi\\t dan nanti siang makan lagi\")"
   ]
  },
  {
   "cell_type": "code",
   "execution_count": 13,
   "metadata": {},
   "outputs": [
    {
     "name": "stdout",
     "output_type": "stream",
     "text": [
      "nama saya \"abu\"\n"
     ]
    }
   ],
   "source": [
    "print(\"nama saya \\\"abu\\\"\")"
   ]
  },
  {
   "cell_type": "code",
   "execution_count": 14,
   "metadata": {},
   "outputs": [
    {
     "name": "stdout",
     "output_type": "stream",
     "text": [
      "\"\n"
     ]
    }
   ],
   "source": [
    "print(\"\\\"\")"
   ]
  },
  {
   "cell_type": "code",
   "execution_count": 15,
   "metadata": {},
   "outputs": [
    {
     "name": "stdout",
     "output_type": "stream",
     "text": [
      "satu. dua. tiga.\n"
     ]
    }
   ],
   "source": [
    "print(\"satu.\",\"dua.\",\"tiga.\")"
   ]
  },
  {
   "cell_type": "code",
   "execution_count": 18,
   "metadata": {},
   "outputs": [
    {
     "name": "stdout",
     "output_type": "stream",
     "text": [
      "Nama saya Abu\n",
      "Salam\n"
     ]
    }
   ],
   "source": [
    "print(\"Nama saya\",\"Abu\", end=\" \")\n",
    "print(\"Salam\")"
   ]
  },
  {
   "cell_type": "code",
   "execution_count": 20,
   "metadata": {},
   "outputs": [
    {
     "name": "stdout",
     "output_type": "stream",
     "text": [
      "satu, dua, tiga\n"
     ]
    }
   ],
   "source": [
    "print(\"satu\",\"dua\",\"tiga\", sep=\", \")"
   ]
  },
  {
   "cell_type": "markdown",
   "metadata": {},
   "source": [
    "## Lab 2.1.1.18: The Print Function\n",
    "\n",
    "Buatlah Program untuk menghasilkan output:\n",
    "`Programming***Essentials***in...Python`"
   ]
  },
  {
   "cell_type": "code",
   "execution_count": 3,
   "metadata": {},
   "outputs": [
    {
     "name": "stdout",
     "output_type": "stream",
     "text": [
      "Programming Essentials in\n",
      "Python\n"
     ]
    }
   ],
   "source": [
    "#Clue\n",
    "print(\"Programming\",\"Essentials\",\"in\")\n",
    "print(\"Python\")"
   ]
  },
  {
   "cell_type": "code",
   "execution_count": 22,
   "metadata": {},
   "outputs": [
    {
     "name": "stdout",
     "output_type": "stream",
     "text": [
      "Programming***Essentials***in...PythonPython\n"
     ]
    }
   ],
   "source": [
    "#Programming***Essentials***in...PythonPython\n",
    "\n",
    "print(\"Programming\",\"Essentials\",\"in\", sep=\"***\", end=\"...\")\n",
    "print(\"Python\"*2)"
   ]
  },
  {
   "cell_type": "markdown",
   "metadata": {},
   "source": [
    "## Lab 2.1.1.19: Formatting the output\n",
    "Membuat duplikasi pola gambar bintang"
   ]
  },
  {
   "cell_type": "code",
   "execution_count": 25,
   "metadata": {},
   "outputs": [
    {
     "name": "stdout",
     "output_type": "stream",
     "text": [
      "    *        *    \n",
      "   * *      * *   \n",
      "  *   *    *   *  \n",
      " *     *  *     * \n",
      "***   ******   ***\n",
      "  *   *    *   *  \n",
      "  *   *    *   *  \n",
      "  *****    *****  \n"
     ]
    }
   ],
   "source": [
    "#clue\n",
    "\n",
    "print(\"    *    \"*2)\n",
    "print(\"   * *   \"*2)\n",
    "print(\"  *   *  \"*2)\n",
    "print(\" *     * \"*2)\n",
    "print(\"***   ***\"*2)\n",
    "print(\"  *   *  \"*2)\n",
    "print(\"  *   *  \"*2)\n",
    "print(\"  *****  \"*2)"
   ]
  },
  {
   "cell_type": "code",
   "execution_count": 24,
   "metadata": {},
   "outputs": [
    {
     "name": "stdout",
     "output_type": "stream",
     "text": [
      "    *\n",
      "   * *\n",
      "  *   *\n",
      " *     *\n",
      "***   ***\n",
      "  *   *\n",
      "  *   *\n",
      "  *****\n",
      "    *\n",
      "   * *\n",
      "  *   *\n",
      " *     *\n",
      "***   ***\n",
      "  *   *\n",
      "  *   *\n",
      "  *****\n",
      "\n"
     ]
    }
   ],
   "source": [
    "print(\"    *\\n   * *\\n  *   *\\n *     *\\n***   ***\\n  *   *\\n  *   *\\n  *****\\n\"*2)"
   ]
  },
  {
   "cell_type": "markdown",
   "metadata": {},
   "source": [
    "# Literal\n",
    "literal merupakan notasi untuk mensimbolkan nilai, dapat berupa string, boolean maupun angka (integer dan float)"
   ]
  },
  {
   "cell_type": "code",
   "execution_count": 27,
   "metadata": {},
   "outputs": [
    {
     "name": "stdout",
     "output_type": "stream",
     "text": [
      "22\n",
      "4\n",
      "<class 'str'>\n",
      "<class 'int'>\n"
     ]
    }
   ],
   "source": [
    "print(\"2\"*2)\n",
    "print(2*2)\n",
    "\n",
    "print(type(\"2\"))\n",
    "print(type(2))"
   ]
  },
  {
   "cell_type": "markdown",
   "metadata": {},
   "source": [
    "## Integers vs Floats"
   ]
  },
  {
   "cell_type": "code",
   "execution_count": 30,
   "metadata": {},
   "outputs": [
    {
     "name": "stdout",
     "output_type": "stream",
     "text": [
      "5 mempunyai tipe <class 'int'>\n",
      "0.5 mempunyai tipe <class 'float'>\n"
     ]
    }
   ],
   "source": [
    "print(5, \"mempunyai tipe\", type(5))\n",
    "print(.5, \"mempunyai tipe\", type(.5))"
   ]
  },
  {
   "cell_type": "markdown",
   "metadata": {},
   "source": [
    "\n",
    "# Penulisan Float dan Integer\n",
    "Python versi 3 membolehkan pemisahan digit integer dengan underscore \"_\"\n",
    "agar mudah dibaca\n",
    "```python\n",
    "print (10_000_000)```\n",
    "\n",
    "Float dipisahkan dengan .(titik) bukan ,(koma)\n",
    "cara penulisan float bisa 3 cara\n",
    "\n",
    "- 4.0\n",
    "- .4 (terbaca nol koma 4)\n",
    "- 4. (terbaca 4 koma nol)\n",
    "\n",
    "> 3e08 berarti $ 3 x 10 ^ 8 $  \n",
    "3e-08 berarti $ 3 x 10 ^ {-8} $\n"
   ]
  },
  {
   "cell_type": "markdown",
   "metadata": {},
   "source": [
    "## String"
   ]
  },
  {
   "cell_type": "markdown",
   "metadata": {},
   "source": [
    "Buatlah program untuk menghasilkan output `I'm Monty Python`"
   ]
  },
  {
   "cell_type": "code",
   "execution_count": null,
   "metadata": {},
   "outputs": [],
   "source": []
  },
  {
   "cell_type": "markdown",
   "metadata": {},
   "source": [
    "## Booelan\n",
    "Logika benar salah, 1 bernilai benar (True) dan 0 bernilai salah (False)"
   ]
  },
  {
   "cell_type": "code",
   "execution_count": 32,
   "metadata": {},
   "outputs": [
    {
     "name": "stdout",
     "output_type": "stream",
     "text": [
      "True\n",
      "False\n",
      "True\n",
      "False\n"
     ]
    }
   ],
   "source": [
    "print(True)\n",
    "print(False)\n",
    "\n",
    "print(4>2)\n",
    "print(3>4)"
   ]
  },
  {
   "cell_type": "markdown",
   "metadata": {},
   "source": [
    "## None"
   ]
  },
  {
   "cell_type": "code",
   "execution_count": 38,
   "metadata": {},
   "outputs": [
    {
     "name": "stdout",
     "output_type": "stream",
     "text": [
      "\n"
     ]
    }
   ],
   "source": [
    "print()"
   ]
  },
  {
   "cell_type": "markdown",
   "metadata": {},
   "source": [
    "## Lab 2.2.1.11: Python literals - strings\n",
    "Buat output seperti ini dalam satu line <br/>\n",
    "`\"I'm\"`<br/>\n",
    "`\"\"learning\"\"`<br/>\n",
    "`\"\"\"Python\"\"\"`"
   ]
  },
  {
   "cell_type": "code",
   "execution_count": 40,
   "metadata": {},
   "outputs": [
    {
     "name": "stdout",
     "output_type": "stream",
     "text": [
      "\"I'm\"\n",
      "\"\"learning\"\"\n",
      "\"\"\"Python\"\"\"\n",
      "\n",
      "\"I'm\"\n",
      "\"\"learning\"\"\n",
      "\"\"\"Python\"\"\"\n",
      "\n"
     ]
    }
   ],
   "source": [
    "print('\"I\\'m\"\\n\"\"learning\"\"\\n\"\"\"Python\"\"\"')\n",
    "\n",
    "print(\"\"\"\n",
    "\"I'm\"\n",
    "\"\"learning\"\"\n",
    "\\\"\"\"Python\"\"\\\"\n",
    "\"\"\")"
   ]
  },
  {
   "cell_type": "markdown",
   "metadata": {},
   "source": [
    "# 2.3 Operator"
   ]
  },
  {
   "cell_type": "markdown",
   "metadata": {},
   "source": [
    "### Operator Aritmetika\n",
    "\n",
    "| Operator | Arti                                                                                          | Contoh                  |\n",
    "|----------|--------------------------------------------------------------------------------------------------|--------------------------|\n",
    "| +        | Penambahan                                                                   | x + y                 |\n",
    "| -        | Pengurangan                                              | x - y                  |\n",
    "| *        | Perkalian                                                                            | x * y                    |\n",
    "| /        | Pembagian                                 | x / y                    |\n",
    "| %        | Modulo - Sisa Pembagian                                 | x % y (sisa pembagian of x/y) |\n",
    "| //       | Pembagian dan dibulatkan ke bawah | x // y                   |\n",
    "| **       | Eksponen - Pangkat                                             | x**y (x pangkat y)  |"
   ]
  },
  {
   "cell_type": "code",
   "execution_count": 43,
   "metadata": {},
   "outputs": [
    {
     "name": "stdout",
     "output_type": "stream",
     "text": [
      "8\n",
      "8.0\n",
      "8.0\n",
      "8.0\n"
     ]
    }
   ],
   "source": [
    "print(2 ** 3)\n",
    "print(2 ** 3.)\n",
    "print(2. ** 3.)\n",
    "print(2. ** 3)"
   ]
  },
  {
   "cell_type": "code",
   "execution_count": 47,
   "metadata": {},
   "outputs": [
    {
     "name": "stdout",
     "output_type": "stream",
     "text": [
      "3.3333333333333335\n",
      "3\n",
      "2.0\n",
      "2.0\n",
      "0\n",
      "4.0\n"
     ]
    }
   ],
   "source": [
    "print(10 / 3)\n",
    "print(10 // 3)\n",
    "\n",
    "print(6 / 3.)\n",
    "print(6 // 3.)\n",
    "\n",
    "print(-4 + 4)\n",
    "print(-4. + 8)"
   ]
  },
  {
   "cell_type": "markdown",
   "metadata": {},
   "source": [
    "### Urutan Operator"
   ]
  },
  {
   "cell_type": "markdown",
   "metadata": {},
   "source": [
    "| Prioritas| Operator |        |\n",
    "|----------|----------|--------|\n",
    "| 1        | +, -     | unary  |\n",
    "| 2        | **       |        |\n",
    "| 3        | *,/,//,% |        |\n",
    "| 4        | +, -     | binary |"
   ]
  },
  {
   "cell_type": "code",
   "execution_count": 48,
   "metadata": {},
   "outputs": [
    {
     "data": {
      "text/plain": [
       "17"
      ]
     },
     "execution_count": 48,
     "metadata": {},
     "output_type": "execute_result"
    }
   ],
   "source": [
    "2 + 3 *5"
   ]
  },
  {
   "cell_type": "code",
   "execution_count": 51,
   "metadata": {},
   "outputs": [
    {
     "name": "stdout",
     "output_type": "stream",
     "text": [
      "1\n",
      "3\n",
      "1\n",
      "256\n",
      "4\n",
      "256\n"
     ]
    }
   ],
   "source": [
    "print(9 % 6 % 2)\n",
    "print(9 % 6)\n",
    "print(3 % 2)\n",
    "\n",
    "print(2 ** 2 ** 3)\n",
    "print(2 ** 2)\n",
    "print(2 ** 8)"
   ]
  },
  {
   "cell_type": "code",
   "execution_count": 53,
   "metadata": {},
   "outputs": [
    {
     "name": "stdout",
     "output_type": "stream",
     "text": [
      "10.0\n"
     ]
    }
   ],
   "source": [
    "print((5 * ((25 % 13)+100) / (2 * 13)) // 2)"
   ]
  },
  {
   "cell_type": "markdown",
   "metadata": {},
   "source": [
    "# 2.4 Variabel\n",
    "- Apa itu variabel?\n",
    "- Bagaimana Aturan Penamaannya?"
   ]
  },
  {
   "cell_type": "code",
   "execution_count": 56,
   "metadata": {},
   "outputs": [
    {
     "name": "stdout",
     "output_type": "stream",
     "text": [
      "1\n"
     ]
    }
   ],
   "source": [
    "var = 1\n",
    "print(var)"
   ]
  },
  {
   "cell_type": "markdown",
   "metadata": {},
   "source": [
    "Tulis rumus ini dalam kode program:<br/> $c=\\sqrt{a^2+b^2}$"
   ]
  },
  {
   "cell_type": "code",
   "execution_count": 58,
   "metadata": {},
   "outputs": [
    {
     "name": "stdout",
     "output_type": "stream",
     "text": [
      "c =  3.605551275463989\n"
     ]
    }
   ],
   "source": [
    "a=2.\n",
    "b=3.\n",
    "c=(a**2 + b**2) ** 0.5\n",
    "print(\"c = \", c)"
   ]
  },
  {
   "cell_type": "markdown",
   "metadata": {},
   "source": [
    "## Lab 2.4.1.7: Variables\n",
    "\n",
    "<b>Cerita Pendek:</b> \n",
    "\n",
    "Suatu waktu di kebun apel, Darjo memiliki 3 apel, Darno memiliki 5 apel dan Waginem memiliki 6 Apel. mereka sangat bahagia dan hidup lama. selesai.\n",
    "\n",
    "Tugas Anda\n",
    "- buat variabe : `Darjo`, `Darno` dan `Waginem`\n",
    "- isi nilai sesuai dengan jumlah apel yang mereka miliki\n",
    "- cetak nama variabel dan jumlah apel setiap variabel dalam 1 baris, pisahkan dengan koma\n",
    "- buat variabel baru dengan nama `totalApel` yang berisi penjumlahan seluruh apel yang mereka miliki\n",
    "- coba otak atik code dengan membuat variable baru, diisi dengan nilai lain, dan dihitung dengan operator aritmetik lainnya"
   ]
  },
  {
   "cell_type": "code",
   "execution_count": 59,
   "metadata": {},
   "outputs": [],
   "source": [
    "Darjo = 2\n",
    "Darno = 5\n",
    "Waginem = 6"
   ]
  },
  {
   "cell_type": "code",
   "execution_count": null,
   "metadata": {},
   "outputs": [],
   "source": []
  },
  {
   "cell_type": "markdown",
   "metadata": {},
   "source": [
    "## Lab 2.4.1.9: Variables: a simple converter\n",
    "\n",
    "Mil dan kilometer adalah satuan panjang\n",
    "\n",
    "1 mil memiliki panjang sekitar 1.61 kilometer, buatlah program konversi di bawah ini\n",
    "- mil ke kilometer;\n",
    "- kilometer to mil.\n",
    "jangan ganti apapun terhadap kode yang sudah ada. tulis kodemu pada tanda ###, kemudian hapus tanda tersebut. Uji kode Anda dengan data yang kami sajikan dalam source code"
   ]
  },
  {
   "cell_type": "markdown",
   "metadata": {},
   "source": [
    "Kode:\n",
    "```python\n",
    "kilometer = 12.25\n",
    "mil = 7.38\n",
    "\n",
    "mil_ke_kilometer = ###\n",
    "kilometer_ke_mil = ###\n",
    "\n",
    "print(mil, \"1 mil adalah\", round(miles_to_kilometers, 2), \"kilometer\")\n",
    "print(kilometer, \"1 kilometer adalah\", round(kilometers_to_miles, 2), \"mil\")\n",
    "```"
   ]
  },
  {
   "cell_type": "code",
   "execution_count": 61,
   "metadata": {},
   "outputs": [
    {
     "name": "stdout",
     "output_type": "stream",
     "text": [
      "7.38 1 mil adalah 11.88 kilometer\n",
      "12.25 1 kilometer adalah 7.61 mil\n"
     ]
    }
   ],
   "source": [
    "kilometer = 12.25\n",
    "mil = 7.38\n",
    "\n",
    "miles_to_kilometers = mil * 1.61\n",
    "kilometers_to_miles = kilometer / 1.61\n",
    "\n",
    "print(mil, \"1 mil adalah\", round(miles_to_kilometers, 2), \"kilometer\")\n",
    "print(kilometer, \"1 kilometer adalah\", round(kilometers_to_miles, 2), \"mil\")"
   ]
  },
  {
   "cell_type": "markdown",
   "metadata": {},
   "source": [
    "## Lab 2.4.1.10: Operators and expressions\n",
    "\n",
    "Skenario\n",
    "lihatlah kode dalam editor, nilai tersebut termasuk tipe float, letakkan nilai tersebut dalam variabel x, dan print variabel tersebut dalam variabel y. Tugasmu adalah melengkapi kode di bawah ini untk menyelesaikan persamaan di bawah\n",
    "\n",
    "$3x^3 - 2x^2 + 3x - 1$\n",
    "\n",
    "Hasil harus disimpan dalam variabel y.\n",
    "ingat bahwa aljabar klasik sering menghilangkan operator perkalian, kamu harus menggunakannya secara eksplisit. Ingat bagaimana cara mengubah tipe data untuk memastikan bahwa x bertipe float.\n",
    "\n",
    "usahakan kodemu mudah dibaca, uji kode dengan data yang telah kami berikan.\n",
    "\n",
    "```python\n",
    "x =  # hardcode your test data here\n",
    "x = float(x)\n",
    "# tulis kodemu disini\n",
    "print(\"y =\", y)\n",
    "```\n",
    "\n",
    "Test Data:\n",
    "```python\n",
    "#input\n",
    "x = 0\n",
    "x = 1\n",
    "x = -1\n",
    "\n",
    "#output\n",
    "y = -1.0\n",
    "y = 3.0\n",
    "y = -9.0\n",
    "```"
   ]
  },
  {
   "cell_type": "code",
   "execution_count": 62,
   "metadata": {},
   "outputs": [
    {
     "name": "stdout",
     "output_type": "stream",
     "text": [
      "3\n"
     ]
    }
   ],
   "source": [
    "var = 2\n",
    "var = 3\n",
    "print(var)"
   ]
  },
  {
   "cell_type": "markdown",
   "metadata": {},
   "source": [
    "### Exercise\n",
    "\n",
    "Apa outputnya?\n",
    "```python\n",
    "var = 2\n",
    "var = 3\n",
    "print(var)\n",
    "```\n",
    "\n",
    "Nama variabel mana yang ilegal?\n",
    "```python\n",
    "my_var\n",
    "m\n",
    "101\n",
    "averylongvariablename\n",
    "m101\n",
    "m 101\n",
    "Del\n",
    "del\n",
    "```\n",
    "\n",
    "Apa Outputnya?\n",
    "```python\n",
    "a = '1'\n",
    "b = \"1\"\n",
    "print(a + b)\n",
    "```\n",
    "\n",
    "Apa outputnya?\n",
    "\n",
    "```python\n",
    "a = 6\n",
    "b = 3\n",
    "a /= 2 * b\n",
    "print(a)\n",
    "```"
   ]
  },
  {
   "cell_type": "code",
   "execution_count": null,
   "metadata": {},
   "outputs": [],
   "source": []
  },
  {
   "cell_type": "markdown",
   "metadata": {},
   "source": [
    "# 2.5 Comments\n",
    "Latihan: mana yang seharusnya menjadi komentar, mana yang tidak"
   ]
  },
  {
   "cell_type": "code",
   "execution_count": 66,
   "metadata": {},
   "outputs": [
    {
     "name": "stdout",
     "output_type": "stream",
     "text": [
      "Hai...\n"
     ]
    }
   ],
   "source": [
    "#test\n",
    "print(\"Hai...\") \n",
    "#test1\n",
    "#test2"
   ]
  },
  {
   "cell_type": "markdown",
   "metadata": {},
   "source": [
    "# 2.6 How to talk to a computer \n",
    "katakunci `input()`<br/>\n",
    "hasil dari fungsi `input()` adalah <b>string</b>.<br/>\n",
    "Tidak bisa langsung dikenakan ke operasi aritmetika"
   ]
  },
  {
   "cell_type": "code",
   "execution_count": 67,
   "metadata": {},
   "outputs": [
    {
     "name": "stdout",
     "output_type": "stream",
     "text": [
      "Katakan sesuatu...\n",
      "Nama saya abu\n",
      "mmmmm Nama saya abu  Oke\n"
     ]
    }
   ],
   "source": [
    "print(\"Katakan sesuatu...\")\n",
    "sesuatu = input()\n",
    "print(\"mmmmm\", sesuatu, \" Oke\")"
   ]
  },
  {
   "cell_type": "markdown",
   "metadata": {},
   "source": [
    "### type casting"
   ]
  },
  {
   "cell_type": "code",
   "execution_count": 68,
   "metadata": {},
   "outputs": [
    {
     "name": "stdout",
     "output_type": "stream",
     "text": [
      "Masukan Angka : 3\n",
      "Pangkat duanya adalah  9.0\n"
     ]
    }
   ],
   "source": [
    "angka = float(input(\"Masukan Angka : \"))\n",
    "print(\"Pangkat duanya adalah \", angka**2)"
   ]
  },
  {
   "attachments": {
    "image.png": {
     "image/png": "[encoded data removed]"
    }
   },
   "cell_type": "markdown",
   "metadata": {},
   "source": [
    "#### Replication\n",
    "coba membuat cetak bangun datar persegi dengan replication\n",
    "\n",
    "![image.png](attachment:image.png)"
   ]
  },
  {
   "cell_type": "code",
   "execution_count": 71,
   "metadata": {},
   "outputs": [
    {
     "name": "stdout",
     "output_type": "stream",
     "text": [
      "+----------+\n",
      "|          |\n",
      "|          |\n",
      "|          |\n",
      "|          |\n",
      "|          |\n",
      "+----------+\n"
     ]
    }
   ],
   "source": [
    "print(\"+\" + 10*\"-\" + \"+\")\n",
    "print((\"|\" + 10*\" \" + \"|\\n\") * 5, end=\"\")\n",
    "print(\"+\" + 10*\"-\" + \"+\")"
   ]
  },
  {
   "cell_type": "markdown",
   "metadata": {},
   "source": [
    "## Lab 2.6.1.9: Simple input and output\n",
    "Coba utak atik perintah kode dibawah ini\n",
    "``` python\n",
    "# Masukkan nilai a dalam float\n",
    "# Masukkan nilai b dalam float\n",
    "\n",
    "# hitung hasil penambahan disini\n",
    "# hitung hasil pengurangan disini\n",
    "# hitung hasil perkalian disini\n",
    "# hitung hasil pembagian disini\n",
    "\n",
    "\n",
    "print(\"\\nYeahhhh\")\n",
    "```"
   ]
  },
  {
   "cell_type": "markdown",
   "metadata": {},
   "source": [
    "## Lab 2.6.1.10: Operators and expressions\n",
    "Kerjakan rumus berikut:\n",
    "<img src=\"images/modul2_pembagian.PNG\" width=200px />\n",
    "\n",
    "input/output yang diharapkan\n",
    "```python\n",
    "x = 1\n",
    "y = 0.6000000000000001\n",
    "\n",
    "x = 10\n",
    "y = 0.09901951266867294\n",
    "```"
   ]
  },
  {
   "cell_type": "code",
   "execution_count": 17,
   "metadata": {},
   "outputs": [
    {
     "name": "stdout",
     "output_type": "stream",
     "text": [
      "0.09901951266867294\n"
     ]
    }
   ],
   "source": [
    "x = 10\n",
    "y = 1/(x+1/(x+1/(x+1/x)))\n",
    "print(y)"
   ]
  },
  {
   "cell_type": "code",
   "execution_count": 2,
   "metadata": {},
   "outputs": [
    {
     "name": "stdout",
     "output_type": "stream",
     "text": [
      "\"I'm\"\n",
      " \"\"learning\"\"\n",
      " \"\"\"Python\"\"\"\n",
      "\n"
     ]
    }
   ],
   "source": [
    "print(\"\\\"I'm\\\"\\n \\\"\\\"learning\\\"\\\"\\n \\\"\\\"\\\"Python\\\"\\\"\\\"\\n\")"
   ]
  }
 ],
 "metadata": {
  "kernelspec": {
   "display_name": "Python 3 (ipykernel)",
   "language": "python",
   "name": "python3"
  },
  "language_info": {
   "codemirror_mode": {
    "name": "ipython",
    "version": 3
   },
   "file_extension": ".py",
   "mimetype": "text/x-python",
   "name": "python",
   "nbconvert_exporter": "python",
   "pygments_lexer": "ipython3",
   "version": "3.9.5"
  }
 },
 "nbformat": 4,
 "nbformat_minor": 4
}
